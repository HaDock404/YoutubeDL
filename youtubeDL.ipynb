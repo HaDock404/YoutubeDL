{
 "cells": [
  {
   "cell_type": "code",
   "execution_count": 1,
   "metadata": {},
   "outputs": [
    {
     "name": "stdout",
     "output_type": "stream",
     "text": [
      "Requirement already satisfied: yt-dlp in /Applications/anaconda3/lib/python3.10/site-packages (2023.10.13)\n",
      "Requirement already satisfied: pycryptodomex in /Applications/anaconda3/lib/python3.10/site-packages (from yt-dlp) (3.19.0)\n",
      "Requirement already satisfied: websockets in /Applications/anaconda3/lib/python3.10/site-packages (from yt-dlp) (10.4)\n",
      "Requirement already satisfied: brotli in /Applications/anaconda3/lib/python3.10/site-packages (from yt-dlp) (1.1.0)\n",
      "Requirement already satisfied: certifi in /Applications/anaconda3/lib/python3.10/site-packages (from yt-dlp) (2022.12.7)\n",
      "Requirement already satisfied: mutagen in /Applications/anaconda3/lib/python3.10/site-packages (from yt-dlp) (1.47.0)\n",
      "Note: you may need to restart the kernel to use updated packages.\n"
     ]
    }
   ],
   "source": [
    "pip install yt-dlp"
   ]
  },
  {
   "cell_type": "code",
   "execution_count": 6,
   "metadata": {},
   "outputs": [
    {
     "name": "stdout",
     "output_type": "stream",
     "text": [
      "[youtube] Extracting URL: https://www.youtube.com/watch?v=0LlQKvWEixI\n",
      "[youtube] 0LlQKvWEixI: Downloading webpage\n",
      "[youtube] 0LlQKvWEixI: Downloading ios player API JSON\n",
      "[youtube] 0LlQKvWEixI: Downloading android player API JSON\n",
      "[youtube] 0LlQKvWEixI: Downloading m3u8 information\n",
      "[info] 0LlQKvWEixI: Downloading 1 format(s): 22\n",
      "[download] Destination: Paris ： la police ouvre le feu sur une femme qui fait l’apologie du terrorisme [0LlQKvWEixI].mp4\n",
      "[download] 100% of   11.23MiB in 00:00:01 at 7.59MiB/s     \n",
      "Video dowloaded successfully!\n"
     ]
    }
   ],
   "source": [
    "import yt_dlp\n",
    "\n",
    "url = input(\"Enter video url:\")\n",
    "\n",
    "ydl_opts = {}\n",
    "\n",
    "yt_dlp.YoutubeDL(ydl_opts).download([url])\n",
    "\n",
    "print('Video dowloaded successfully!')"
   ]
  }
 ],
 "metadata": {
  "kernelspec": {
   "display_name": "base",
   "language": "python",
   "name": "python3"
  },
  "language_info": {
   "codemirror_mode": {
    "name": "ipython",
    "version": 3
   },
   "file_extension": ".py",
   "mimetype": "text/x-python",
   "name": "python",
   "nbconvert_exporter": "python",
   "pygments_lexer": "ipython3",
   "version": "3.10.9"
  }
 },
 "nbformat": 4,
 "nbformat_minor": 2
}
