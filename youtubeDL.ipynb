{
 "cells": [
  {
   "cell_type": "code",
   "execution_count": 1,
   "metadata": {},
   "outputs": [
    {
     "name": "stdout",
     "output_type": "stream",
     "text": [
      "Requirement already satisfied: yt-dlp in /Applications/anaconda3/lib/python3.10/site-packages (2023.10.13)\n",
      "Requirement already satisfied: pycryptodomex in /Applications/anaconda3/lib/python3.10/site-packages (from yt-dlp) (3.19.0)\n",
      "Requirement already satisfied: websockets in /Applications/anaconda3/lib/python3.10/site-packages (from yt-dlp) (10.4)\n",
      "Requirement already satisfied: brotli in /Applications/anaconda3/lib/python3.10/site-packages (from yt-dlp) (1.1.0)\n",
      "Requirement already satisfied: certifi in /Applications/anaconda3/lib/python3.10/site-packages (from yt-dlp) (2022.12.7)\n",
      "Requirement already satisfied: mutagen in /Applications/anaconda3/lib/python3.10/site-packages (from yt-dlp) (1.47.0)\n",
      "Note: you may need to restart the kernel to use updated packages.\n"
     ]
    }
   ],
   "source": [
    "pip install yt-dlp"
   ]
  },
  {
   "cell_type": "code",
   "execution_count": 6,
   "metadata": {},
   "outputs": [
    {
     "name": "stdout",
     "output_type": "stream",
     "text": [
      "[youtube] Extracting URL: https://www.youtube.com/watch?v=H3CfbtTjBnM\n",
      "[youtube] H3CfbtTjBnM: Downloading webpage\n",
      "[youtube] H3CfbtTjBnM: Downloading ios player API JSON\n",
      "[youtube] H3CfbtTjBnM: Downloading m3u8 information\n",
      "[info] H3CfbtTjBnM: Downloading 1 format(s): 136\n",
      "[download] Destination: Matrix blueprint animation numbers seamless background - From left to right [H3CfbtTjBnM].mp4\n",
      "[download] 100% of    4.50MiB in 00:00:01 at 3.60MiB/s   \n",
      "Video dowloaded successfully!\n"
     ]
    }
   ],
   "source": [
    "import yt_dlp\n",
    "# https://github.com/yt-dlp/yt-dlp\n",
    "url = input(\"Enter video url:\")\n",
    "\n",
    "# supprimer option ou ajouter si besoin\n",
    "ydl_opts = {\n",
    "    'format': 'bestvideo'\n",
    "}\n",
    "\n",
    "yt_dlp.YoutubeDL(ydl_opts).download([url])\n",
    "\n",
    "print('Video dowloaded successfully!')"
   ]
  },
  {
   "cell_type": "code",
   "execution_count": null,
   "metadata": {},
   "outputs": [],
   "source": []
  }
 ],
 "metadata": {
  "kernelspec": {
   "display_name": "base",
   "language": "python",
   "name": "python3"
  },
  "language_info": {
   "codemirror_mode": {
    "name": "ipython",
    "version": 3
   },
   "file_extension": ".py",
   "mimetype": "text/x-python",
   "name": "python",
   "nbconvert_exporter": "python",
   "pygments_lexer": "ipython3",
   "version": "3.10.9"
  }
 },
 "nbformat": 4,
 "nbformat_minor": 2
}
